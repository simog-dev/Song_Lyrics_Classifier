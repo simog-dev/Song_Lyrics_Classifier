{
  "cells": [
    {
      "cell_type": "markdown",
      "metadata": {
        "id": "qYl-fJfKcAAr"
      },
      "source": [
        "## Importing Modules"
      ]
    },
    {
      "cell_type": "code",
      "execution_count": null,
      "metadata": {
        "id": "VFML9wUiZGjM"
      },
      "outputs": [],
      "source": []
    },
    {
      "cell_type": "code",
      "execution_count": null,
      "metadata": {
        "colab": {
          "base_uri": "https://localhost:8080/"
        },
        "id": "shWNsNlhZY2B",
        "outputId": "d00fa316-a1a6-4fe4-e6d1-95693a6dec4a"
      },
      "outputs": [
        {
          "name": "stdout",
          "output_type": "stream",
          "text": [
            "Mounted at /content/drive\n"
          ]
        }
      ],
      "source": [
        "from google.colab import drive\n",
        "drive.mount('/content/drive')"
      ]
    },
    {
      "cell_type": "code",
      "execution_count": null,
      "metadata": {
        "colab": {
          "base_uri": "https://localhost:8080/"
        },
        "id": "q35EUFtVcAA1",
        "outputId": "91d22a65-7542-4b55-f72c-d64cc38cecd0"
      },
      "outputs": [
        {
          "name": "stderr",
          "output_type": "stream",
          "text": [
            "[nltk_data] Downloading package wordnet to /root/nltk_data...\n",
            "[nltk_data] Downloading package punkt to /root/nltk_data...\n",
            "[nltk_data]   Unzipping tokenizers/punkt.zip.\n",
            "[nltk_data] Downloading package wordnet to /root/nltk_data...\n",
            "[nltk_data]   Package wordnet is already up-to-date!\n",
            "[nltk_data] Downloading package stopwords to /root/nltk_data...\n",
            "[nltk_data]   Unzipping corpora/stopwords.zip.\n",
            "[nltk_data] Downloading package maxent_ne_chunker to\n",
            "[nltk_data]     /root/nltk_data...\n",
            "[nltk_data]   Unzipping chunkers/maxent_ne_chunker.zip.\n",
            "[nltk_data] Downloading package averaged_perceptron_tagger to\n",
            "[nltk_data]     /root/nltk_data...\n",
            "[nltk_data]   Unzipping taggers/averaged_perceptron_tagger.zip.\n"
          ]
        },
        {
          "data": {
            "text/plain": [
              "True"
            ]
          },
          "execution_count": 2,
          "metadata": {},
          "output_type": "execute_result"
        }
      ],
      "source": [
        "import re\n",
        "import nltk\n",
        "import time\n",
        "import numpy as np\n",
        "import pandas as pd\n",
        "import seaborn as sns\n",
        "import matplotlib.pyplot as plt\n",
        "\n",
        "\n",
        "# Setting environment to ignore future warnings\n",
        "import warnings\n",
        "warnings.simplefilter('ignore')\n",
        "\n",
        "# Downloading required data\n",
        "nltk.download(\"wordnet\")\n",
        "\n",
        "# Downloading & Loading NLTK modelus\n",
        "nltk.download('punkt')\n",
        "nltk.download('wordnet')\n",
        "nltk.download(\"stopwords\")\n",
        "nltk.download('maxent_ne_chunker')\n",
        "nltk.download('averaged_perceptron_tagger')\n"
      ]
    },
    {
      "cell_type": "markdown",
      "metadata": {
        "id": "NITOGEvUcAA5"
      },
      "source": [
        "## Loading Data"
      ]
    },
    {
      "cell_type": "markdown",
      "metadata": {
        "id": "veaBOPSw6ZZP"
      },
      "source": [
        "**Reading Clean Data**"
      ]
    },
    {
      "cell_type": "code",
      "execution_count": null,
      "metadata": {
        "colab": {
          "base_uri": "https://localhost:8080/",
          "height": 204
        },
        "id": "iFxzzYbU6ORL",
        "outputId": "f6d229f6-4e92-4f80-bced-eafc553fcab5"
      },
      "outputs": [
        {
          "data": {
            "text/html": [
              "\n",
              "  <div id=\"df-40daa6a7-9aac-484b-8a13-8b17b04572fb\">\n",
              "    <div class=\"colab-df-container\">\n",
              "      <div>\n",
              "<style scoped>\n",
              "    .dataframe tbody tr th:only-of-type {\n",
              "        vertical-align: middle;\n",
              "    }\n",
              "\n",
              "    .dataframe tbody tr th {\n",
              "        vertical-align: top;\n",
              "    }\n",
              "\n",
              "    .dataframe thead th {\n",
              "        text-align: right;\n",
              "    }\n",
              "</style>\n",
              "<table border=\"1\" class=\"dataframe\">\n",
              "  <thead>\n",
              "    <tr style=\"text-align: right;\">\n",
              "      <th></th>\n",
              "      <th>song</th>\n",
              "      <th>year</th>\n",
              "      <th>artist</th>\n",
              "      <th>genre</th>\n",
              "      <th>lyrics</th>\n",
              "      <th>is_explicit</th>\n",
              "    </tr>\n",
              "  </thead>\n",
              "  <tbody>\n",
              "    <tr>\n",
              "      <th>0</th>\n",
              "      <td>ego-remix</td>\n",
              "      <td>2009</td>\n",
              "      <td>beyonce-knowles</td>\n",
              "      <td>Pop</td>\n",
              "      <td>Oh baby, how you doing?\\nYou know I'm gonna cu...</td>\n",
              "      <td>explicit</td>\n",
              "    </tr>\n",
              "    <tr>\n",
              "      <th>1</th>\n",
              "      <td>then-tell-me</td>\n",
              "      <td>2009</td>\n",
              "      <td>beyonce-knowles</td>\n",
              "      <td>Pop</td>\n",
              "      <td>playin' everything so easy,\\nit's like you see...</td>\n",
              "      <td>not_explicit</td>\n",
              "    </tr>\n",
              "    <tr>\n",
              "      <th>2</th>\n",
              "      <td>honesty</td>\n",
              "      <td>2009</td>\n",
              "      <td>beyonce-knowles</td>\n",
              "      <td>Pop</td>\n",
              "      <td>If you search\\nFor tenderness\\nIt isn't hard t...</td>\n",
              "      <td>not_explicit</td>\n",
              "    </tr>\n",
              "    <tr>\n",
              "      <th>3</th>\n",
              "      <td>you-are-my-rock</td>\n",
              "      <td>2009</td>\n",
              "      <td>beyonce-knowles</td>\n",
              "      <td>Pop</td>\n",
              "      <td>Oh oh oh I, oh oh oh I\\n[Verse 1:]\\nIf I wrote...</td>\n",
              "      <td>not_explicit</td>\n",
              "    </tr>\n",
              "    <tr>\n",
              "      <th>4</th>\n",
              "      <td>black-culture</td>\n",
              "      <td>2009</td>\n",
              "      <td>beyonce-knowles</td>\n",
              "      <td>Pop</td>\n",
              "      <td>Party the people, the people the party it's po...</td>\n",
              "      <td>not_explicit</td>\n",
              "    </tr>\n",
              "  </tbody>\n",
              "</table>\n",
              "</div>\n",
              "      <button class=\"colab-df-convert\" onclick=\"convertToInteractive('df-40daa6a7-9aac-484b-8a13-8b17b04572fb')\"\n",
              "              title=\"Convert this dataframe to an interactive table.\"\n",
              "              style=\"display:none;\">\n",
              "        \n",
              "  <svg xmlns=\"http://www.w3.org/2000/svg\" height=\"24px\"viewBox=\"0 0 24 24\"\n",
              "       width=\"24px\">\n",
              "    <path d=\"M0 0h24v24H0V0z\" fill=\"none\"/>\n",
              "    <path d=\"M18.56 5.44l.94 2.06.94-2.06 2.06-.94-2.06-.94-.94-2.06-.94 2.06-2.06.94zm-11 1L8.5 8.5l.94-2.06 2.06-.94-2.06-.94L8.5 2.5l-.94 2.06-2.06.94zm10 10l.94 2.06.94-2.06 2.06-.94-2.06-.94-.94-2.06-.94 2.06-2.06.94z\"/><path d=\"M17.41 7.96l-1.37-1.37c-.4-.4-.92-.59-1.43-.59-.52 0-1.04.2-1.43.59L10.3 9.45l-7.72 7.72c-.78.78-.78 2.05 0 2.83L4 21.41c.39.39.9.59 1.41.59.51 0 1.02-.2 1.41-.59l7.78-7.78 2.81-2.81c.8-.78.8-2.07 0-2.86zM5.41 20L4 18.59l7.72-7.72 1.47 1.35L5.41 20z\"/>\n",
              "  </svg>\n",
              "      </button>\n",
              "      \n",
              "  <style>\n",
              "    .colab-df-container {\n",
              "      display:flex;\n",
              "      flex-wrap:wrap;\n",
              "      gap: 12px;\n",
              "    }\n",
              "\n",
              "    .colab-df-convert {\n",
              "      background-color: #E8F0FE;\n",
              "      border: none;\n",
              "      border-radius: 50%;\n",
              "      cursor: pointer;\n",
              "      display: none;\n",
              "      fill: #1967D2;\n",
              "      height: 32px;\n",
              "      padding: 0 0 0 0;\n",
              "      width: 32px;\n",
              "    }\n",
              "\n",
              "    .colab-df-convert:hover {\n",
              "      background-color: #E2EBFA;\n",
              "      box-shadow: 0px 1px 2px rgba(60, 64, 67, 0.3), 0px 1px 3px 1px rgba(60, 64, 67, 0.15);\n",
              "      fill: #174EA6;\n",
              "    }\n",
              "\n",
              "    [theme=dark] .colab-df-convert {\n",
              "      background-color: #3B4455;\n",
              "      fill: #D2E3FC;\n",
              "    }\n",
              "\n",
              "    [theme=dark] .colab-df-convert:hover {\n",
              "      background-color: #434B5C;\n",
              "      box-shadow: 0px 1px 3px 1px rgba(0, 0, 0, 0.15);\n",
              "      filter: drop-shadow(0px 1px 2px rgba(0, 0, 0, 0.3));\n",
              "      fill: #FFFFFF;\n",
              "    }\n",
              "  </style>\n",
              "\n",
              "      <script>\n",
              "        const buttonEl =\n",
              "          document.querySelector('#df-40daa6a7-9aac-484b-8a13-8b17b04572fb button.colab-df-convert');\n",
              "        buttonEl.style.display =\n",
              "          google.colab.kernel.accessAllowed ? 'block' : 'none';\n",
              "\n",
              "        async function convertToInteractive(key) {\n",
              "          const element = document.querySelector('#df-40daa6a7-9aac-484b-8a13-8b17b04572fb');\n",
              "          const dataTable =\n",
              "            await google.colab.kernel.invokeFunction('convertToInteractive',\n",
              "                                                     [key], {});\n",
              "          if (!dataTable) return;\n",
              "\n",
              "          const docLinkHtml = 'Like what you see? Visit the ' +\n",
              "            '<a target=\"_blank\" href=https://colab.research.google.com/notebooks/data_table.ipynb>data table notebook</a>'\n",
              "            + ' to learn more about interactive tables.';\n",
              "          element.innerHTML = '';\n",
              "          dataTable['output_type'] = 'display_data';\n",
              "          await google.colab.output.renderOutput(dataTable, element);\n",
              "          const docLink = document.createElement('div');\n",
              "          docLink.innerHTML = docLinkHtml;\n",
              "          element.appendChild(docLink);\n",
              "        }\n",
              "      </script>\n",
              "    </div>\n",
              "  </div>\n",
              "  "
            ],
            "text/plain": [
              "              song  year           artist genre  \\\n",
              "0        ego-remix  2009  beyonce-knowles   Pop   \n",
              "1     then-tell-me  2009  beyonce-knowles   Pop   \n",
              "2          honesty  2009  beyonce-knowles   Pop   \n",
              "3  you-are-my-rock  2009  beyonce-knowles   Pop   \n",
              "4    black-culture  2009  beyonce-knowles   Pop   \n",
              "\n",
              "                                              lyrics   is_explicit  \n",
              "0  Oh baby, how you doing?\\nYou know I'm gonna cu...      explicit  \n",
              "1  playin' everything so easy,\\nit's like you see...  not_explicit  \n",
              "2  If you search\\nFor tenderness\\nIt isn't hard t...  not_explicit  \n",
              "3  Oh oh oh I, oh oh oh I\\n[Verse 1:]\\nIf I wrote...  not_explicit  \n",
              "4  Party the people, the people the party it's po...  not_explicit  "
            ]
          },
          "execution_count": 3,
          "metadata": {},
          "output_type": "execute_result"
        }
      ],
      "source": [
        "import pandas as pd\n",
        "df_clean = pd.read_csv(\"explicit_dataset.csv\")\n",
        "df_clean.head()"
      ]
    },
    {
      "cell_type": "code",
      "execution_count": null,
      "metadata": {
        "colab": {
          "base_uri": "https://localhost:8080/"
        },
        "id": "J1tHMz5gweBV",
        "outputId": "e162034d-8117-4379-cf85-249492c9142a"
      },
      "outputs": [
        {
          "name": "stderr",
          "output_type": "stream",
          "text": [
            "[nltk_data] Downloading package wordnet to /root/nltk_data...\n",
            "[nltk_data]   Package wordnet is already up-to-date!\n",
            "[nltk_data] Downloading package punkt to /root/nltk_data...\n",
            "[nltk_data]   Package punkt is already up-to-date!\n",
            "[nltk_data] Downloading package wordnet to /root/nltk_data...\n",
            "[nltk_data]   Package wordnet is already up-to-date!\n",
            "[nltk_data] Downloading package stopwords to /root/nltk_data...\n",
            "[nltk_data]   Package stopwords is already up-to-date!\n",
            "[nltk_data] Downloading package maxent_ne_chunker to\n",
            "[nltk_data]     /root/nltk_data...\n",
            "[nltk_data]   Package maxent_ne_chunker is already up-to-date!\n",
            "[nltk_data] Downloading package averaged_perceptron_tagger to\n",
            "[nltk_data]     /root/nltk_data...\n",
            "[nltk_data]   Package averaged_perceptron_tagger is already up-to-\n",
            "[nltk_data]       date!\n"
          ]
        },
        {
          "data": {
            "text/plain": [
              "True"
            ]
          },
          "execution_count": 4,
          "metadata": {},
          "output_type": "execute_result"
        }
      ],
      "source": [
        "import re\n",
        "import nltk\n",
        "import time\n",
        "import numpy as np\n",
        "import pandas as pd\n",
        "import seaborn as sns\n",
        "import matplotlib.pyplot as plt\n",
        "\n",
        "\n",
        "# Setting environment to ignore future warnings\n",
        "import warnings\n",
        "warnings.simplefilter('ignore')\n",
        "\n",
        "# Downloading required data\n",
        "nltk.download(\"wordnet\")\n",
        "\n",
        "# Downloading & Loading NLTK modelus\n",
        "nltk.download('punkt')\n",
        "nltk.download('wordnet')\n",
        "nltk.download(\"stopwords\")\n",
        "nltk.download('maxent_ne_chunker')\n",
        "nltk.download('averaged_perceptron_tagger')\n"
      ]
    },
    {
      "cell_type": "code",
      "execution_count": null,
      "metadata": {
        "colab": {
          "base_uri": "https://localhost:8080/"
        },
        "id": "XwWhqZyk66UM",
        "outputId": "61345f75-a8a2-4ab8-f8ce-7b2be12255eb"
      },
      "outputs": [
        {
          "name": "stderr",
          "output_type": "stream",
          "text": [
            "[nltk_data] Downloading package omw-1.4 to /root/nltk_data...\n"
          ]
        }
      ],
      "source": [
        "from nltk.stem import WordNetLemmatizer\n",
        "lemmatizer = WordNetLemmatizer()\n",
        "nltk.download('omw-1.4')\n",
        "STOPWORDS = nltk.corpus.stopwords.words(\"english\") \n",
        "def clean_data(txt):\n",
        "  txt = re.sub('[^a-zA-Z]', ' ', txt)\n",
        "  txt = txt.lower()\n",
        "  txt = txt.split()\n",
        "  txt = [lemmatizer.lemmatize(word) for word in txt if not word in STOPWORDS]\n",
        "  txt = ' '.join(txt)\n",
        "  return txt"
      ]
    },
    {
      "cell_type": "code",
      "execution_count": null,
      "metadata": {
        "id": "oKjQOnWdvGVE"
      },
      "outputs": [],
      "source": [
        "df_clean[\"clean_data\"] = df_clean[\"lyrics\"].apply(clean_data)\n"
      ]
    },
    {
      "cell_type": "code",
      "execution_count": null,
      "metadata": {
        "colab": {
          "base_uri": "https://localhost:8080/",
          "height": 217
        },
        "id": "FgPVlntF52yA",
        "outputId": "c77e1354-b2f8-4064-dd4e-7fb079177744"
      },
      "outputs": [
        {
          "data": {
            "text/html": [
              "\n",
              "  <div id=\"df-721ad4a9-d023-4e43-b40e-4be47f04cd93\">\n",
              "    <div class=\"colab-df-container\">\n",
              "      <div>\n",
              "<style scoped>\n",
              "    .dataframe tbody tr th:only-of-type {\n",
              "        vertical-align: middle;\n",
              "    }\n",
              "\n",
              "    .dataframe tbody tr th {\n",
              "        vertical-align: top;\n",
              "    }\n",
              "\n",
              "    .dataframe thead th {\n",
              "        text-align: right;\n",
              "    }\n",
              "</style>\n",
              "<table border=\"1\" class=\"dataframe\">\n",
              "  <thead>\n",
              "    <tr style=\"text-align: right;\">\n",
              "      <th></th>\n",
              "      <th>song</th>\n",
              "      <th>year</th>\n",
              "      <th>artist</th>\n",
              "      <th>genre</th>\n",
              "      <th>lyrics</th>\n",
              "      <th>is_explicit</th>\n",
              "      <th>clean_data</th>\n",
              "    </tr>\n",
              "  </thead>\n",
              "  <tbody>\n",
              "    <tr>\n",
              "      <th>0</th>\n",
              "      <td>ego-remix</td>\n",
              "      <td>2009</td>\n",
              "      <td>beyonce-knowles</td>\n",
              "      <td>Pop</td>\n",
              "      <td>Oh baby, how you doing?\\nYou know I'm gonna cu...</td>\n",
              "      <td>explicit</td>\n",
              "      <td>oh baby know gonna cut right chase woman made ...</td>\n",
              "    </tr>\n",
              "    <tr>\n",
              "      <th>1</th>\n",
              "      <td>then-tell-me</td>\n",
              "      <td>2009</td>\n",
              "      <td>beyonce-knowles</td>\n",
              "      <td>Pop</td>\n",
              "      <td>playin' everything so easy,\\nit's like you see...</td>\n",
              "      <td>not_explicit</td>\n",
              "      <td>playin everything easy like seem sure still wa...</td>\n",
              "    </tr>\n",
              "    <tr>\n",
              "      <th>2</th>\n",
              "      <td>honesty</td>\n",
              "      <td>2009</td>\n",
              "      <td>beyonce-knowles</td>\n",
              "      <td>Pop</td>\n",
              "      <td>If you search\\nFor tenderness\\nIt isn't hard t...</td>\n",
              "      <td>not_explicit</td>\n",
              "      <td>search tenderness hard find love need live loo...</td>\n",
              "    </tr>\n",
              "    <tr>\n",
              "      <th>3</th>\n",
              "      <td>you-are-my-rock</td>\n",
              "      <td>2009</td>\n",
              "      <td>beyonce-knowles</td>\n",
              "      <td>Pop</td>\n",
              "      <td>Oh oh oh I, oh oh oh I\\n[Verse 1:]\\nIf I wrote...</td>\n",
              "      <td>not_explicit</td>\n",
              "      <td>oh oh oh oh oh oh verse wrote book stand title...</td>\n",
              "    </tr>\n",
              "  </tbody>\n",
              "</table>\n",
              "</div>\n",
              "      <button class=\"colab-df-convert\" onclick=\"convertToInteractive('df-721ad4a9-d023-4e43-b40e-4be47f04cd93')\"\n",
              "              title=\"Convert this dataframe to an interactive table.\"\n",
              "              style=\"display:none;\">\n",
              "        \n",
              "  <svg xmlns=\"http://www.w3.org/2000/svg\" height=\"24px\"viewBox=\"0 0 24 24\"\n",
              "       width=\"24px\">\n",
              "    <path d=\"M0 0h24v24H0V0z\" fill=\"none\"/>\n",
              "    <path d=\"M18.56 5.44l.94 2.06.94-2.06 2.06-.94-2.06-.94-.94-2.06-.94 2.06-2.06.94zm-11 1L8.5 8.5l.94-2.06 2.06-.94-2.06-.94L8.5 2.5l-.94 2.06-2.06.94zm10 10l.94 2.06.94-2.06 2.06-.94-2.06-.94-.94-2.06-.94 2.06-2.06.94z\"/><path d=\"M17.41 7.96l-1.37-1.37c-.4-.4-.92-.59-1.43-.59-.52 0-1.04.2-1.43.59L10.3 9.45l-7.72 7.72c-.78.78-.78 2.05 0 2.83L4 21.41c.39.39.9.59 1.41.59.51 0 1.02-.2 1.41-.59l7.78-7.78 2.81-2.81c.8-.78.8-2.07 0-2.86zM5.41 20L4 18.59l7.72-7.72 1.47 1.35L5.41 20z\"/>\n",
              "  </svg>\n",
              "      </button>\n",
              "      \n",
              "  <style>\n",
              "    .colab-df-container {\n",
              "      display:flex;\n",
              "      flex-wrap:wrap;\n",
              "      gap: 12px;\n",
              "    }\n",
              "\n",
              "    .colab-df-convert {\n",
              "      background-color: #E8F0FE;\n",
              "      border: none;\n",
              "      border-radius: 50%;\n",
              "      cursor: pointer;\n",
              "      display: none;\n",
              "      fill: #1967D2;\n",
              "      height: 32px;\n",
              "      padding: 0 0 0 0;\n",
              "      width: 32px;\n",
              "    }\n",
              "\n",
              "    .colab-df-convert:hover {\n",
              "      background-color: #E2EBFA;\n",
              "      box-shadow: 0px 1px 2px rgba(60, 64, 67, 0.3), 0px 1px 3px 1px rgba(60, 64, 67, 0.15);\n",
              "      fill: #174EA6;\n",
              "    }\n",
              "\n",
              "    [theme=dark] .colab-df-convert {\n",
              "      background-color: #3B4455;\n",
              "      fill: #D2E3FC;\n",
              "    }\n",
              "\n",
              "    [theme=dark] .colab-df-convert:hover {\n",
              "      background-color: #434B5C;\n",
              "      box-shadow: 0px 1px 3px 1px rgba(0, 0, 0, 0.15);\n",
              "      filter: drop-shadow(0px 1px 2px rgba(0, 0, 0, 0.3));\n",
              "      fill: #FFFFFF;\n",
              "    }\n",
              "  </style>\n",
              "\n",
              "      <script>\n",
              "        const buttonEl =\n",
              "          document.querySelector('#df-721ad4a9-d023-4e43-b40e-4be47f04cd93 button.colab-df-convert');\n",
              "        buttonEl.style.display =\n",
              "          google.colab.kernel.accessAllowed ? 'block' : 'none';\n",
              "\n",
              "        async function convertToInteractive(key) {\n",
              "          const element = document.querySelector('#df-721ad4a9-d023-4e43-b40e-4be47f04cd93');\n",
              "          const dataTable =\n",
              "            await google.colab.kernel.invokeFunction('convertToInteractive',\n",
              "                                                     [key], {});\n",
              "          if (!dataTable) return;\n",
              "\n",
              "          const docLinkHtml = 'Like what you see? Visit the ' +\n",
              "            '<a target=\"_blank\" href=https://colab.research.google.com/notebooks/data_table.ipynb>data table notebook</a>'\n",
              "            + ' to learn more about interactive tables.';\n",
              "          element.innerHTML = '';\n",
              "          dataTable['output_type'] = 'display_data';\n",
              "          await google.colab.output.renderOutput(dataTable, element);\n",
              "          const docLink = document.createElement('div');\n",
              "          docLink.innerHTML = docLinkHtml;\n",
              "          element.appendChild(docLink);\n",
              "        }\n",
              "      </script>\n",
              "    </div>\n",
              "  </div>\n",
              "  "
            ],
            "text/plain": [
              "              song  year           artist genre  \\\n",
              "0        ego-remix  2009  beyonce-knowles   Pop   \n",
              "1     then-tell-me  2009  beyonce-knowles   Pop   \n",
              "2          honesty  2009  beyonce-knowles   Pop   \n",
              "3  you-are-my-rock  2009  beyonce-knowles   Pop   \n",
              "\n",
              "                                              lyrics   is_explicit  \\\n",
              "0  Oh baby, how you doing?\\nYou know I'm gonna cu...      explicit   \n",
              "1  playin' everything so easy,\\nit's like you see...  not_explicit   \n",
              "2  If you search\\nFor tenderness\\nIt isn't hard t...  not_explicit   \n",
              "3  Oh oh oh I, oh oh oh I\\n[Verse 1:]\\nIf I wrote...  not_explicit   \n",
              "\n",
              "                                          clean_data  \n",
              "0  oh baby know gonna cut right chase woman made ...  \n",
              "1  playin everything easy like seem sure still wa...  \n",
              "2  search tenderness hard find love need live loo...  \n",
              "3  oh oh oh oh oh oh verse wrote book stand title...  "
            ]
          },
          "execution_count": 7,
          "metadata": {},
          "output_type": "execute_result"
        }
      ],
      "source": [
        "df_clean.head(4)"
      ]
    },
    {
      "cell_type": "code",
      "execution_count": null,
      "metadata": {
        "id": "qP1JbzkO6V_b"
      },
      "outputs": [],
      "source": [
        "def get_explicit(x):\n",
        "  if x==\"explicit\":\n",
        "    return 1\n",
        "  else:\n",
        "    return 0"
      ]
    },
    {
      "cell_type": "code",
      "execution_count": null,
      "metadata": {
        "id": "8dgaK-nofdSQ"
      },
      "outputs": [],
      "source": [
        "df_clean[\"is_explicit\"] = df_clean[\"is_explicit\"].apply(get_explicit)"
      ]
    },
    {
      "cell_type": "code",
      "execution_count": null,
      "metadata": {
        "colab": {
          "base_uri": "https://localhost:8080/"
        },
        "id": "I7FwePmlyL6A",
        "outputId": "361fe681-bbc4-4467-c985-a302fd4b6e40"
      },
      "outputs": [
        {
          "data": {
            "text/plain": [
              "0    145602\n",
              "1     43786\n",
              "Name: is_explicit, dtype: int64"
            ]
          },
          "execution_count": 10,
          "metadata": {},
          "output_type": "execute_result"
        }
      ],
      "source": [
        "df_clean.is_explicit.value_counts()"
      ]
    },
    {
      "cell_type": "code",
      "execution_count": null,
      "metadata": {
        "id": "3uajxUgQ6XI9"
      },
      "outputs": [],
      "source": [
        "input_feature = df_clean.drop(['song','year','genre','lyrics','artist','is_explicit'],axis=1)\n",
        "output_feature = df_clean.is_explicit\n",
        "# Balancing data over Sampling\n",
        "from imblearn.over_sampling import RandomOverSampler\n"
      ]
    },
    {
      "cell_type": "code",
      "execution_count": null,
      "metadata": {
        "colab": {
          "base_uri": "https://localhost:8080/",
          "height": 419
        },
        "id": "c57We4Bq74Wo",
        "outputId": "668e8bc3-b6ec-4415-d721-8d42700ab047"
      },
      "outputs": [
        {
          "data": {
            "text/html": [
              "\n",
              "  <div id=\"df-32278c51-a34f-4e87-a445-f96e860cbee9\">\n",
              "    <div class=\"colab-df-container\">\n",
              "      <div>\n",
              "<style scoped>\n",
              "    .dataframe tbody tr th:only-of-type {\n",
              "        vertical-align: middle;\n",
              "    }\n",
              "\n",
              "    .dataframe tbody tr th {\n",
              "        vertical-align: top;\n",
              "    }\n",
              "\n",
              "    .dataframe thead th {\n",
              "        text-align: right;\n",
              "    }\n",
              "</style>\n",
              "<table border=\"1\" class=\"dataframe\">\n",
              "  <thead>\n",
              "    <tr style=\"text-align: right;\">\n",
              "      <th></th>\n",
              "      <th>clean_data</th>\n",
              "    </tr>\n",
              "  </thead>\n",
              "  <tbody>\n",
              "    <tr>\n",
              "      <th>0</th>\n",
              "      <td>oh baby know gonna cut right chase woman made ...</td>\n",
              "    </tr>\n",
              "    <tr>\n",
              "      <th>1</th>\n",
              "      <td>playin everything easy like seem sure still wa...</td>\n",
              "    </tr>\n",
              "    <tr>\n",
              "      <th>2</th>\n",
              "      <td>search tenderness hard find love need live loo...</td>\n",
              "    </tr>\n",
              "    <tr>\n",
              "      <th>3</th>\n",
              "      <td>oh oh oh oh oh oh verse wrote book stand title...</td>\n",
              "    </tr>\n",
              "    <tr>\n",
              "      <th>4</th>\n",
              "      <td>party people people party popping sitting arou...</td>\n",
              "    </tr>\n",
              "    <tr>\n",
              "      <th>...</th>\n",
              "      <td>...</td>\n",
              "    </tr>\n",
              "    <tr>\n",
              "      <th>189383</th>\n",
              "      <td>take plan time change da da da da da take plan...</td>\n",
              "    </tr>\n",
              "    <tr>\n",
              "      <th>189384</th>\n",
              "      <td>unstoppable seems new since still novice feel ...</td>\n",
              "    </tr>\n",
              "    <tr>\n",
              "      <th>189385</th>\n",
              "      <td>say changed say different maybe finally unders...</td>\n",
              "    </tr>\n",
              "    <tr>\n",
              "      <th>189386</th>\n",
              "      <td>let go telling make another year go way tellin...</td>\n",
              "    </tr>\n",
              "    <tr>\n",
              "      <th>189387</th>\n",
              "      <td>racing tide sand never lose fit crown head pla...</td>\n",
              "    </tr>\n",
              "  </tbody>\n",
              "</table>\n",
              "<p>189388 rows × 1 columns</p>\n",
              "</div>\n",
              "      <button class=\"colab-df-convert\" onclick=\"convertToInteractive('df-32278c51-a34f-4e87-a445-f96e860cbee9')\"\n",
              "              title=\"Convert this dataframe to an interactive table.\"\n",
              "              style=\"display:none;\">\n",
              "        \n",
              "  <svg xmlns=\"http://www.w3.org/2000/svg\" height=\"24px\"viewBox=\"0 0 24 24\"\n",
              "       width=\"24px\">\n",
              "    <path d=\"M0 0h24v24H0V0z\" fill=\"none\"/>\n",
              "    <path d=\"M18.56 5.44l.94 2.06.94-2.06 2.06-.94-2.06-.94-.94-2.06-.94 2.06-2.06.94zm-11 1L8.5 8.5l.94-2.06 2.06-.94-2.06-.94L8.5 2.5l-.94 2.06-2.06.94zm10 10l.94 2.06.94-2.06 2.06-.94-2.06-.94-.94-2.06-.94 2.06-2.06.94z\"/><path d=\"M17.41 7.96l-1.37-1.37c-.4-.4-.92-.59-1.43-.59-.52 0-1.04.2-1.43.59L10.3 9.45l-7.72 7.72c-.78.78-.78 2.05 0 2.83L4 21.41c.39.39.9.59 1.41.59.51 0 1.02-.2 1.41-.59l7.78-7.78 2.81-2.81c.8-.78.8-2.07 0-2.86zM5.41 20L4 18.59l7.72-7.72 1.47 1.35L5.41 20z\"/>\n",
              "  </svg>\n",
              "      </button>\n",
              "      \n",
              "  <style>\n",
              "    .colab-df-container {\n",
              "      display:flex;\n",
              "      flex-wrap:wrap;\n",
              "      gap: 12px;\n",
              "    }\n",
              "\n",
              "    .colab-df-convert {\n",
              "      background-color: #E8F0FE;\n",
              "      border: none;\n",
              "      border-radius: 50%;\n",
              "      cursor: pointer;\n",
              "      display: none;\n",
              "      fill: #1967D2;\n",
              "      height: 32px;\n",
              "      padding: 0 0 0 0;\n",
              "      width: 32px;\n",
              "    }\n",
              "\n",
              "    .colab-df-convert:hover {\n",
              "      background-color: #E2EBFA;\n",
              "      box-shadow: 0px 1px 2px rgba(60, 64, 67, 0.3), 0px 1px 3px 1px rgba(60, 64, 67, 0.15);\n",
              "      fill: #174EA6;\n",
              "    }\n",
              "\n",
              "    [theme=dark] .colab-df-convert {\n",
              "      background-color: #3B4455;\n",
              "      fill: #D2E3FC;\n",
              "    }\n",
              "\n",
              "    [theme=dark] .colab-df-convert:hover {\n",
              "      background-color: #434B5C;\n",
              "      box-shadow: 0px 1px 3px 1px rgba(0, 0, 0, 0.15);\n",
              "      filter: drop-shadow(0px 1px 2px rgba(0, 0, 0, 0.3));\n",
              "      fill: #FFFFFF;\n",
              "    }\n",
              "  </style>\n",
              "\n",
              "      <script>\n",
              "        const buttonEl =\n",
              "          document.querySelector('#df-32278c51-a34f-4e87-a445-f96e860cbee9 button.colab-df-convert');\n",
              "        buttonEl.style.display =\n",
              "          google.colab.kernel.accessAllowed ? 'block' : 'none';\n",
              "\n",
              "        async function convertToInteractive(key) {\n",
              "          const element = document.querySelector('#df-32278c51-a34f-4e87-a445-f96e860cbee9');\n",
              "          const dataTable =\n",
              "            await google.colab.kernel.invokeFunction('convertToInteractive',\n",
              "                                                     [key], {});\n",
              "          if (!dataTable) return;\n",
              "\n",
              "          const docLinkHtml = 'Like what you see? Visit the ' +\n",
              "            '<a target=\"_blank\" href=https://colab.research.google.com/notebooks/data_table.ipynb>data table notebook</a>'\n",
              "            + ' to learn more about interactive tables.';\n",
              "          element.innerHTML = '';\n",
              "          dataTable['output_type'] = 'display_data';\n",
              "          await google.colab.output.renderOutput(dataTable, element);\n",
              "          const docLink = document.createElement('div');\n",
              "          docLink.innerHTML = docLinkHtml;\n",
              "          element.appendChild(docLink);\n",
              "        }\n",
              "      </script>\n",
              "    </div>\n",
              "  </div>\n",
              "  "
            ],
            "text/plain": [
              "                                               clean_data\n",
              "0       oh baby know gonna cut right chase woman made ...\n",
              "1       playin everything easy like seem sure still wa...\n",
              "2       search tenderness hard find love need live loo...\n",
              "3       oh oh oh oh oh oh verse wrote book stand title...\n",
              "4       party people people party popping sitting arou...\n",
              "...                                                   ...\n",
              "189383  take plan time change da da da da da take plan...\n",
              "189384  unstoppable seems new since still novice feel ...\n",
              "189385  say changed say different maybe finally unders...\n",
              "189386  let go telling make another year go way tellin...\n",
              "189387  racing tide sand never lose fit crown head pla...\n",
              "\n",
              "[189388 rows x 1 columns]"
            ]
          },
          "execution_count": 23,
          "metadata": {},
          "output_type": "execute_result"
        }
      ],
      "source": [
        "input_feature"
      ]
    },
    {
      "cell_type": "code",
      "execution_count": null,
      "metadata": {
        "colab": {
          "base_uri": "https://localhost:8080/",
          "height": 248
        },
        "id": "WwlaK3qXcq62",
        "outputId": "bd09ba81-3c16-4601-d544-9d84d9b07f47"
      },
      "outputs": [
        {
          "data": {
            "text/html": [
              "\n",
              "  <div id=\"df-f2571bd1-5c56-473d-ba06-8f4a9f2ba804\">\n",
              "    <div class=\"colab-df-container\">\n",
              "      <div>\n",
              "<style scoped>\n",
              "    .dataframe tbody tr th:only-of-type {\n",
              "        vertical-align: middle;\n",
              "    }\n",
              "\n",
              "    .dataframe tbody tr th {\n",
              "        vertical-align: top;\n",
              "    }\n",
              "\n",
              "    .dataframe thead th {\n",
              "        text-align: right;\n",
              "    }\n",
              "</style>\n",
              "<table border=\"1\" class=\"dataframe\">\n",
              "  <thead>\n",
              "    <tr style=\"text-align: right;\">\n",
              "      <th></th>\n",
              "      <th>song</th>\n",
              "      <th>year</th>\n",
              "      <th>artist</th>\n",
              "      <th>genre</th>\n",
              "      <th>lyrics</th>\n",
              "      <th>is_explicit</th>\n",
              "      <th>clean_data</th>\n",
              "    </tr>\n",
              "  </thead>\n",
              "  <tbody>\n",
              "    <tr>\n",
              "      <th>0</th>\n",
              "      <td>ego-remix</td>\n",
              "      <td>2009</td>\n",
              "      <td>beyonce-knowles</td>\n",
              "      <td>Pop</td>\n",
              "      <td>Oh baby, how you doing?\\nYou know I'm gonna cu...</td>\n",
              "      <td>1</td>\n",
              "      <td>oh baby know gonna cut right chase woman made ...</td>\n",
              "    </tr>\n",
              "    <tr>\n",
              "      <th>1</th>\n",
              "      <td>then-tell-me</td>\n",
              "      <td>2009</td>\n",
              "      <td>beyonce-knowles</td>\n",
              "      <td>Pop</td>\n",
              "      <td>playin' everything so easy,\\nit's like you see...</td>\n",
              "      <td>0</td>\n",
              "      <td>playin everything easy like seem sure still wa...</td>\n",
              "    </tr>\n",
              "    <tr>\n",
              "      <th>2</th>\n",
              "      <td>honesty</td>\n",
              "      <td>2009</td>\n",
              "      <td>beyonce-knowles</td>\n",
              "      <td>Pop</td>\n",
              "      <td>If you search\\nFor tenderness\\nIt isn't hard t...</td>\n",
              "      <td>0</td>\n",
              "      <td>search tenderness hard find love need live loo...</td>\n",
              "    </tr>\n",
              "    <tr>\n",
              "      <th>3</th>\n",
              "      <td>you-are-my-rock</td>\n",
              "      <td>2009</td>\n",
              "      <td>beyonce-knowles</td>\n",
              "      <td>Pop</td>\n",
              "      <td>Oh oh oh I, oh oh oh I\\n[Verse 1:]\\nIf I wrote...</td>\n",
              "      <td>0</td>\n",
              "      <td>oh oh oh oh oh oh verse wrote book stand title...</td>\n",
              "    </tr>\n",
              "    <tr>\n",
              "      <th>4</th>\n",
              "      <td>black-culture</td>\n",
              "      <td>2009</td>\n",
              "      <td>beyonce-knowles</td>\n",
              "      <td>Pop</td>\n",
              "      <td>Party the people, the people the party it's po...</td>\n",
              "      <td>0</td>\n",
              "      <td>party people people party popping sitting arou...</td>\n",
              "    </tr>\n",
              "  </tbody>\n",
              "</table>\n",
              "</div>\n",
              "      <button class=\"colab-df-convert\" onclick=\"convertToInteractive('df-f2571bd1-5c56-473d-ba06-8f4a9f2ba804')\"\n",
              "              title=\"Convert this dataframe to an interactive table.\"\n",
              "              style=\"display:none;\">\n",
              "        \n",
              "  <svg xmlns=\"http://www.w3.org/2000/svg\" height=\"24px\"viewBox=\"0 0 24 24\"\n",
              "       width=\"24px\">\n",
              "    <path d=\"M0 0h24v24H0V0z\" fill=\"none\"/>\n",
              "    <path d=\"M18.56 5.44l.94 2.06.94-2.06 2.06-.94-2.06-.94-.94-2.06-.94 2.06-2.06.94zm-11 1L8.5 8.5l.94-2.06 2.06-.94-2.06-.94L8.5 2.5l-.94 2.06-2.06.94zm10 10l.94 2.06.94-2.06 2.06-.94-2.06-.94-.94-2.06-.94 2.06-2.06.94z\"/><path d=\"M17.41 7.96l-1.37-1.37c-.4-.4-.92-.59-1.43-.59-.52 0-1.04.2-1.43.59L10.3 9.45l-7.72 7.72c-.78.78-.78 2.05 0 2.83L4 21.41c.39.39.9.59 1.41.59.51 0 1.02-.2 1.41-.59l7.78-7.78 2.81-2.81c.8-.78.8-2.07 0-2.86zM5.41 20L4 18.59l7.72-7.72 1.47 1.35L5.41 20z\"/>\n",
              "  </svg>\n",
              "      </button>\n",
              "      \n",
              "  <style>\n",
              "    .colab-df-container {\n",
              "      display:flex;\n",
              "      flex-wrap:wrap;\n",
              "      gap: 12px;\n",
              "    }\n",
              "\n",
              "    .colab-df-convert {\n",
              "      background-color: #E8F0FE;\n",
              "      border: none;\n",
              "      border-radius: 50%;\n",
              "      cursor: pointer;\n",
              "      display: none;\n",
              "      fill: #1967D2;\n",
              "      height: 32px;\n",
              "      padding: 0 0 0 0;\n",
              "      width: 32px;\n",
              "    }\n",
              "\n",
              "    .colab-df-convert:hover {\n",
              "      background-color: #E2EBFA;\n",
              "      box-shadow: 0px 1px 2px rgba(60, 64, 67, 0.3), 0px 1px 3px 1px rgba(60, 64, 67, 0.15);\n",
              "      fill: #174EA6;\n",
              "    }\n",
              "\n",
              "    [theme=dark] .colab-df-convert {\n",
              "      background-color: #3B4455;\n",
              "      fill: #D2E3FC;\n",
              "    }\n",
              "\n",
              "    [theme=dark] .colab-df-convert:hover {\n",
              "      background-color: #434B5C;\n",
              "      box-shadow: 0px 1px 3px 1px rgba(0, 0, 0, 0.15);\n",
              "      filter: drop-shadow(0px 1px 2px rgba(0, 0, 0, 0.3));\n",
              "      fill: #FFFFFF;\n",
              "    }\n",
              "  </style>\n",
              "\n",
              "      <script>\n",
              "        const buttonEl =\n",
              "          document.querySelector('#df-f2571bd1-5c56-473d-ba06-8f4a9f2ba804 button.colab-df-convert');\n",
              "        buttonEl.style.display =\n",
              "          google.colab.kernel.accessAllowed ? 'block' : 'none';\n",
              "\n",
              "        async function convertToInteractive(key) {\n",
              "          const element = document.querySelector('#df-f2571bd1-5c56-473d-ba06-8f4a9f2ba804');\n",
              "          const dataTable =\n",
              "            await google.colab.kernel.invokeFunction('convertToInteractive',\n",
              "                                                     [key], {});\n",
              "          if (!dataTable) return;\n",
              "\n",
              "          const docLinkHtml = 'Like what you see? Visit the ' +\n",
              "            '<a target=\"_blank\" href=https://colab.research.google.com/notebooks/data_table.ipynb>data table notebook</a>'\n",
              "            + ' to learn more about interactive tables.';\n",
              "          element.innerHTML = '';\n",
              "          dataTable['output_type'] = 'display_data';\n",
              "          await google.colab.output.renderOutput(dataTable, element);\n",
              "          const docLink = document.createElement('div');\n",
              "          docLink.innerHTML = docLinkHtml;\n",
              "          element.appendChild(docLink);\n",
              "        }\n",
              "      </script>\n",
              "    </div>\n",
              "  </div>\n",
              "  "
            ],
            "text/plain": [
              "              song  year           artist genre  \\\n",
              "0        ego-remix  2009  beyonce-knowles   Pop   \n",
              "1     then-tell-me  2009  beyonce-knowles   Pop   \n",
              "2          honesty  2009  beyonce-knowles   Pop   \n",
              "3  you-are-my-rock  2009  beyonce-knowles   Pop   \n",
              "4    black-culture  2009  beyonce-knowles   Pop   \n",
              "\n",
              "                                              lyrics  is_explicit  \\\n",
              "0  Oh baby, how you doing?\\nYou know I'm gonna cu...            1   \n",
              "1  playin' everything so easy,\\nit's like you see...            0   \n",
              "2  If you search\\nFor tenderness\\nIt isn't hard t...            0   \n",
              "3  Oh oh oh I, oh oh oh I\\n[Verse 1:]\\nIf I wrote...            0   \n",
              "4  Party the people, the people the party it's po...            0   \n",
              "\n",
              "                                          clean_data  \n",
              "0  oh baby know gonna cut right chase woman made ...  \n",
              "1  playin everything easy like seem sure still wa...  \n",
              "2  search tenderness hard find love need live loo...  \n",
              "3  oh oh oh oh oh oh verse wrote book stand title...  \n",
              "4  party people people party popping sitting arou...  "
            ]
          },
          "execution_count": 13,
          "metadata": {},
          "output_type": "execute_result"
        }
      ],
      "source": [
        "df_clean.head()"
      ]
    },
    {
      "cell_type": "code",
      "execution_count": null,
      "metadata": {
        "colab": {
          "base_uri": "https://localhost:8080/"
        },
        "id": "mHM9iIwa-U1_",
        "outputId": "6f27fecb-ec5d-4409-b4d6-d04eb3372b4c"
      },
      "outputs": [
        {
          "data": {
            "text/plain": [
              "0         1\n",
              "1         0\n",
              "2         0\n",
              "3         0\n",
              "4         0\n",
              "         ..\n",
              "189383    0\n",
              "189384    0\n",
              "189385    0\n",
              "189386    0\n",
              "189387    0\n",
              "Name: is_explicit, Length: 189388, dtype: int64"
            ]
          },
          "execution_count": 14,
          "metadata": {},
          "output_type": "execute_result"
        }
      ],
      "source": [
        "output_feature"
      ]
    },
    {
      "cell_type": "code",
      "execution_count": null,
      "metadata": {
        "colab": {
          "base_uri": "https://localhost:8080/"
        },
        "id": "XEFtDziT6wub",
        "outputId": "e2d3dca6-8eec-456e-e6a8-40491e120a4a"
      },
      "outputs": [
        {
          "data": {
            "text/plain": [
              "2"
            ]
          },
          "execution_count": 15,
          "metadata": {},
          "output_type": "execute_result"
        }
      ],
      "source": [
        "len(set(output_feature))"
      ]
    },
    {
      "cell_type": "code",
      "execution_count": null,
      "metadata": {
        "colab": {
          "base_uri": "https://localhost:8080/"
        },
        "id": "AKv-67-zAyzH",
        "outputId": "9694658c-b491-4e7e-b9fc-c408483bd32e"
      },
      "outputs": [
        {
          "data": {
            "text/plain": [
              "189388"
            ]
          },
          "execution_count": 16,
          "metadata": {},
          "output_type": "execute_result"
        }
      ],
      "source": [
        "input_feature.shape[0]"
      ]
    },
    {
      "cell_type": "code",
      "execution_count": null,
      "metadata": {
        "id": "iDr7ouc_zF3z"
      },
      "outputs": [],
      "source": [
        "import time\n",
        "\n",
        "\n",
        "\n",
        "from sklearn.feature_extraction.text import TfidfVectorizer\n",
        "\n",
        "\n",
        "\n",
        "\n",
        "# Importing Evaluation matrices\n",
        "from sklearn.metrics import accuracy_score\n",
        "from sklearn.metrics import precision_score\n",
        "from sklearn.metrics import recall_score\n",
        "from sklearn.metrics import f1_score\n",
        "from sklearn.metrics import confusion_matrix\n",
        "from sklearn.metrics import classification_report\n",
        "from sklearn.metrics import plot_confusion_matrix\n",
        "from sklearn.metrics import roc_auc_score"
      ]
    },
    {
      "cell_type": "code",
      "execution_count": null,
      "metadata": {
        "id": "WOq5V32hv6Uw"
      },
      "outputs": [],
      "source": [
        "from tensorflow.keras.models import Sequential\n",
        "from tensorflow.keras.layers import Dense\n",
        "from tensorflow.keras.layers import Dropout\n",
        "\n",
        "from sklearn.ensemble import RandomForestClassifier\n",
        "\n",
        "from tensorflow.keras.models import Sequential\n",
        "from tensorflow.keras.layers import Dense\n",
        "from tensorflow.keras.layers import Dropout\n",
        "from tensorflow.keras.layers import BatchNormalization\n",
        "from tensorflow.keras.layers import LSTM\n",
        "from tensorflow.keras.layers import Bidirectional\n",
        "from tensorflow.keras.callbacks import ModelCheckpoint\n",
        "\n",
        "\n",
        "from sklearn.naive_bayes import GaussianNB\n",
        "vectorizers = [TfidfVectorizer(max_features=1000, stop_words='english'),\n",
        "               ]\n",
        "\n",
        "samplers = [None, RandomUnderSampler()]\n",
        "models = []\n",
        "\n",
        "models.append(('Gaussian NB',GaussianNB()))\n",
        "models.append(('Random Forest', RandomForestClassifier()))\n",
        "models.append(('ANN', None))\n",
        "models.append(('Bi-LSTM', None  ))\n",
        "\n",
        "\n",
        "\n",
        "\n"
      ]
    },
    {
      "cell_type": "code",
      "execution_count": 30,
      "metadata": {
        "colab": {
          "base_uri": "https://localhost:8080/",
          "height": 1000
        },
        "id": "g-Pr75JKv9t2",
        "outputId": "c913c055-52a7-45db-cee7-0cc4e58ec80e"
      },
      "outputs": [
        {
          "name": "stdout",
          "output_type": "stream",
          "text": [
            "+ ==================================================================================================== +\n",
            "\u001b[1m\t\t\t1-For Gaussian NB The Performance result is: \u001b[0m\n",
            "+ ==================================================================================================== +\n",
            "Vectorization Technique :  TfidfVectorizer\n",
            "--------------------------------------------------\n",
            "Sampling Technique      :  NoneType\n",
            "--------------------------------------------------\n",
            "Accuracy :  0.8659908126089023\n",
            "--------------------------------------------------\n",
            "F1 :  [0.90916899 0.74456522]\n",
            "--------------------------------------------------\n",
            "Reacll :  [0.87236015 0.84480987]\n",
            "--------------------------------------------------\n",
            "Precision :  [0.94922094 0.66558704]\n",
            "--------------------------------------------------\n",
            "Confusion Matrix....\n",
            " [[25404  3717]\n",
            " [ 1359  7398]]\n",
            "--------------------------------------------------\n",
            "Classification Report....\n",
            "               precision    recall  f1-score   support\n",
            "\n",
            "           0       0.95      0.87      0.91     29121\n",
            "           1       0.67      0.84      0.74      8757\n",
            "\n",
            "    accuracy                           0.87     37878\n",
            "   macro avg       0.81      0.86      0.83     37878\n",
            "weighted avg       0.88      0.87      0.87     37878\n",
            "\n",
            "--------------------------------------------------\n",
            "Plotting Confusion Matrix...\n",
            "\n"
          ]
        },
        {
          "data": {
            "image/png": "[encoded data removed]",
            "text/plain": [
              "<Figure size 864x648 with 2 Axes>"
            ]
          },
          "metadata": {},
          "output_type": "display_data"
        },
        {
          "name": "stdout",
          "output_type": "stream",
          "text": [
            "\t\t\t\t\t\t\t-----------------------------------------------------------\n",
            "\t\t\t\t\t\t\t Time for detection (Gaussian NB) : 4.314 seconds...\n",
            "\t\t\t\t\t\t\t-----------------------------------------------------------\n",
            "\n",
            "+ ==================================================================================================== +\n",
            "\u001b[1m\t\t\t2-For Random Forest The Performance result is: \u001b[0m\n",
            "+ ==================================================================================================== +\n",
            "Vectorization Technique :  TfidfVectorizer\n",
            "--------------------------------------------------\n",
            "Sampling Technique      :  NoneType\n",
            "--------------------------------------------------\n",
            "Accuracy :  0.960583980146787\n",
            "--------------------------------------------------\n",
            "F1 :  [0.97486913 0.90866826]\n",
            "--------------------------------------------------\n",
            "Reacll :  [0.99440266 0.8481215 ]\n",
            "--------------------------------------------------\n",
            "Precision :  [0.95608822 0.97852437]\n",
            "--------------------------------------------------\n",
            "Confusion Matrix....\n",
            " [[28958   163]\n",
            " [ 1330  7427]]\n",
            "--------------------------------------------------\n",
            "Classification Report....\n",
            "               precision    recall  f1-score   support\n",
            "\n",
            "           0       0.96      0.99      0.97     29121\n",
            "           1       0.98      0.85      0.91      8757\n",
            "\n",
            "    accuracy                           0.96     37878\n",
            "   macro avg       0.97      0.92      0.94     37878\n",
            "weighted avg       0.96      0.96      0.96     37878\n",
            "\n",
            "--------------------------------------------------\n",
            "Plotting Confusion Matrix...\n",
            "\n"
          ]
        },
        {
          "data": {
            "image/png": "[encoded data removed]",
            "text/plain": [
              "<Figure size 864x648 with 2 Axes>"
            ]
          },
          "metadata": {
            "needs_background": "light"
          },
          "output_type": "display_data"
        },
        {
          "name": "stdout",
          "output_type": "stream",
          "text": [
            "\t\t\t\t\t\t\t-----------------------------------------------------------\n",
            "\t\t\t\t\t\t\t Time for detection (Random Forest) : 1299.574 seconds...\n",
            "\t\t\t\t\t\t\t-----------------------------------------------------------\n",
            "\n",
            "Epoch 1/10\n",
            "4735/4735 [==============================] - 14s 3ms/step - loss: 0.2143 - accuracy: 0.9293 - val_loss: 0.1719 - val_accuracy: 0.9503\n",
            "Epoch 2/10\n",
            "4735/4735 [==============================] - 13s 3ms/step - loss: 0.1665 - accuracy: 0.9536 - val_loss: 0.1621 - val_accuracy: 0.9546\n",
            "Epoch 3/10\n",
            "4735/4735 [==============================] - 14s 3ms/step - loss: 0.1596 - accuracy: 0.9558 - val_loss: 0.1582 - val_accuracy: 0.9561\n",
            "Epoch 4/10\n",
            "4735/4735 [==============================] - 12s 3ms/step - loss: 0.1551 - accuracy: 0.9573 - val_loss: 0.1580 - val_accuracy: 0.9568\n",
            "Epoch 5/10\n",
            "4735/4735 [==============================] - 13s 3ms/step - loss: 0.1513 - accuracy: 0.9582 - val_loss: 0.1575 - val_accuracy: 0.9568\n",
            "Epoch 6/10\n",
            "4735/4735 [==============================] - 13s 3ms/step - loss: 0.1482 - accuracy: 0.9588 - val_loss: 0.1562 - val_accuracy: 0.9574\n",
            "Epoch 7/10\n",
            "4735/4735 [==============================] - 13s 3ms/step - loss: 0.1452 - accuracy: 0.9593 - val_loss: 0.1576 - val_accuracy: 0.9573\n",
            "Epoch 8/10\n",
            "4735/4735 [==============================] - 14s 3ms/step - loss: 0.1440 - accuracy: 0.9594 - val_loss: 0.1580 - val_accuracy: 0.9569\n",
            "Epoch 9/10\n",
            "4735/4735 [==============================] - 16s 3ms/step - loss: 0.1419 - accuracy: 0.9596 - val_loss: 0.1578 - val_accuracy: 0.9577\n",
            "Epoch 10/10\n",
            "4735/4735 [==============================] - 14s 3ms/step - loss: 0.1402 - accuracy: 0.9602 - val_loss: 0.1596 - val_accuracy: 0.9563\n",
            "1184/1184 [==============================] - 2s 1ms/step\n",
            "Plotting Losses of ANN...\n",
            "\n"
          ]
        },
        {
          "data": {
            "image/png": "[encoded data removed]",
            "text/plain": [
              "<Figure size 864x360 with 1 Axes>"
            ]
          },
          "metadata": {
            "needs_background": "light"
          },
          "output_type": "display_data"
        },
        {
          "name": "stdout",
          "output_type": "stream",
          "text": [
            "+ ==================================================================================================== +\n",
            "\u001b[1m\t\t\t3-For ANN The Performance result is: \u001b[0m\n",
            "+ ==================================================================================================== +\n",
            "Vectorization Technique :  TfidfVectorizer\n",
            "--------------------------------------------------\n",
            "Sampling Technique      :  NoneType\n",
            "--------------------------------------------------\n",
            "Accuracy :  0.9562542900892339\n",
            "--------------------------------------------------\n",
            "F1 :  [0.97209263 0.89884622]\n",
            "--------------------------------------------------\n",
            "Reacll :  [0.99100306 0.84069887]\n",
            "--------------------------------------------------\n",
            "Precision :  [0.95389039 0.96563484]\n",
            "--------------------------------------------------\n",
            "Confusion Matrix....\n",
            " [[28859   262]\n",
            " [ 1395  7362]]\n",
            "--------------------------------------------------\n",
            "Classification Report....\n",
            "               precision    recall  f1-score   support\n",
            "\n",
            "           0       0.95      0.99      0.97     29121\n",
            "           1       0.97      0.84      0.90      8757\n",
            "\n",
            "    accuracy                           0.96     37878\n",
            "   macro avg       0.96      0.92      0.94     37878\n",
            "weighted avg       0.96      0.96      0.96     37878\n",
            "\n",
            "--------------------------------------------------\n",
            "Plotting Confusion Matrix...\n",
            "\n"
          ]
        },
        {
          "data": {
            "image/png": "[encoded data removed]",
            "text/plain": [
              "<Figure size 864x648 with 2 Axes>"
            ]
          },
          "metadata": {
            "needs_background": "light"
          },
          "output_type": "display_data"
        },
        {
          "name": "stdout",
          "output_type": "stream",
          "text": [
            "\t\t\t\t\t\t\t-----------------------------------------------------------\n",
            "\t\t\t\t\t\t\t Time for detection (ANN) : 139.846 seconds...\n",
            "\t\t\t\t\t\t\t-----------------------------------------------------------\n",
            "\n",
            "Epoch 1/10\n",
            "4735/4735 [==============================] - 307s 63ms/step - loss: 0.4200 - accuracy: 0.8300 - val_loss: 0.5649 - val_accuracy: 0.8083\n",
            "Epoch 2/10\n",
            "4735/4735 [==============================] - 299s 63ms/step - loss: 0.3867 - accuracy: 0.8434 - val_loss: 0.5655 - val_accuracy: 0.7173\n",
            "Epoch 3/10\n",
            "4735/4735 [==============================] - 298s 63ms/step - loss: 0.3728 - accuracy: 0.8488 - val_loss: 0.4525 - val_accuracy: 0.8015\n",
            "Epoch 4/10\n",
            "4735/4735 [==============================] - 297s 63ms/step - loss: 0.3547 - accuracy: 0.8564 - val_loss: 4.2463 - val_accuracy: 0.2312\n",
            "Epoch 5/10\n",
            "4735/4735 [==============================] - 295s 62ms/step - loss: 0.3254 - accuracy: 0.8706 - val_loss: 0.8199 - val_accuracy: 0.8020\n",
            "Epoch 6/10\n",
            "4735/4735 [==============================] - 299s 63ms/step - loss: 0.2903 - accuracy: 0.8914 - val_loss: 0.4655 - val_accuracy: 0.7935\n",
            "Epoch 7/10\n",
            "4735/4735 [==============================] - 296s 62ms/step - loss: 0.2674 - accuracy: 0.9044 - val_loss: 1.8404 - val_accuracy: 0.2474\n",
            "Epoch 8/10\n",
            "4735/4735 [==============================] - 294s 62ms/step - loss: 0.2492 - accuracy: 0.9141 - val_loss: 4.0298 - val_accuracy: 0.7688\n",
            "Epoch 9/10\n",
            "4735/4735 [==============================] - 295s 62ms/step - loss: 0.2470 - accuracy: 0.9156 - val_loss: 1.3031 - val_accuracy: 0.8052\n",
            "Epoch 10/10\n",
            "4735/4735 [==============================] - 295s 62ms/step - loss: 0.2246 - accuracy: 0.9274 - val_loss: 0.3502 - val_accuracy: 0.9005\n",
            "Plotting Losses of Bi-LSTM...\n",
            "\n"
          ]
        },
        {
          "data": {
            "image/png": "[encoded data removed]",
            "text/plain": [
              "<Figure size 864x360 with 1 Axes>"
            ]
          },
          "metadata": {
            "needs_background": "light"
          },
          "output_type": "display_data"
        },
        {
          "name": "stdout",
          "output_type": "stream",
          "text": [
            "1184/1184 [==============================] - 17s 14ms/step\n",
            "+ ==================================================================================================== +\n",
            "\u001b[1m\t\t\t4-For Bi-LSTM The Performance result is: \u001b[0m\n",
            "+ ==================================================================================================== +\n",
            "Vectorization Technique :  TfidfVectorizer\n",
            "--------------------------------------------------\n",
            "Sampling Technique      :  NoneType\n",
            "--------------------------------------------------\n",
            "Accuracy :  0.9005227308728021\n",
            "--------------------------------------------------\n",
            "F1 :  [0.93914925 0.72762758]\n",
            "--------------------------------------------------\n",
            "Reacll :  [0.99848906 0.57474021]\n",
            "--------------------------------------------------\n",
            "Precision :  [0.88646688 0.99133346]\n",
            "--------------------------------------------------\n",
            "Confusion Matrix....\n",
            " [[29077    44]\n",
            " [ 3724  5033]]\n",
            "--------------------------------------------------\n",
            "Classification Report....\n",
            "               precision    recall  f1-score   support\n",
            "\n",
            "           0       0.89      1.00      0.94     29121\n",
            "           1       0.99      0.57      0.73      8757\n",
            "\n",
            "    accuracy                           0.90     37878\n",
            "   macro avg       0.94      0.79      0.83     37878\n",
            "weighted avg       0.91      0.90      0.89     37878\n",
            "\n",
            "--------------------------------------------------\n",
            "Plotting Confusion Matrix...\n",
            "\n"
          ]
        },
        {
          "data": {
            "image/png": "[encoded data removed]",
            "text/plain": [
              "<Figure size 864x648 with 2 Axes>"
            ]
          },
          "metadata": {
            "needs_background": "light"
          },
          "output_type": "display_data"
        },
        {
          "name": "stdout",
          "output_type": "stream",
          "text": [
            "\t\t\t\t\t\t\t-----------------------------------------------------------\n",
            "\t\t\t\t\t\t\t Time for detection (Bi-LSTM) : 3052.154 seconds...\n",
            "\t\t\t\t\t\t\t-----------------------------------------------------------\n",
            "\n",
            "+ ==================================================================================================== +\n",
            "\u001b[1m\t\t\t1-For Gaussian NB The Performance result is: \u001b[0m\n",
            "+ ==================================================================================================== +\n",
            "Vectorization Technique :  TfidfVectorizer\n",
            "--------------------------------------------------\n",
            "Sampling Technique      :  RandomUnderSampler\n",
            "--------------------------------------------------\n",
            "Accuracy :  0.8635455324007993\n",
            "--------------------------------------------------\n",
            "F1 :  [0.86311569 0.86397268]\n",
            "--------------------------------------------------\n",
            "Reacll :  [0.86045449 0.86663622]\n",
            "--------------------------------------------------\n",
            "Precision :  [0.8657934  0.86132547]\n",
            "--------------------------------------------------\n",
            "Confusion Matrix....\n",
            " [[7535 1222]\n",
            " [1168 7590]]\n",
            "--------------------------------------------------\n",
            "Classification Report....\n",
            "               precision    recall  f1-score   support\n",
            "\n",
            "           0       0.87      0.86      0.86      8757\n",
            "           1       0.86      0.87      0.86      8758\n",
            "\n",
            "    accuracy                           0.86     17515\n",
            "   macro avg       0.86      0.86      0.86     17515\n",
            "weighted avg       0.86      0.86      0.86     17515\n",
            "\n",
            "--------------------------------------------------\n",
            "Plotting Confusion Matrix...\n",
            "\n"
          ]
        },
        {
          "data": {
            "image/png": "[encoded data removed]",
            "text/plain": [
              "<Figure size 864x648 with 2 Axes>"
            ]
          },
          "metadata": {
            "needs_background": "light"
          },
          "output_type": "display_data"
        },
        {
          "name": "stdout",
          "output_type": "stream",
          "text": [
            "\t\t\t\t\t\t\t-----------------------------------------------------------\n",
            "\t\t\t\t\t\t\t Time for detection (Gaussian NB) : 2.473 seconds...\n",
            "\t\t\t\t\t\t\t-----------------------------------------------------------\n",
            "\n",
            "+ ==================================================================================================== +\n",
            "\u001b[1m\t\t\t2-For Random Forest The Performance result is: \u001b[0m\n",
            "+ ==================================================================================================== +\n",
            "Vectorization Technique :  TfidfVectorizer\n",
            "--------------------------------------------------\n",
            "Sampling Technique      :  RandomUnderSampler\n",
            "--------------------------------------------------\n",
            "Accuracy :  0.9226948330002854\n",
            "--------------------------------------------------\n",
            "F1 :  [0.92597048 0.91911589]\n",
            "--------------------------------------------------\n",
            "Reacll :  [0.96699783 0.87839689]\n",
            "--------------------------------------------------\n",
            "Precision :  [0.88828281 0.96379354]\n",
            "--------------------------------------------------\n",
            "Confusion Matrix....\n",
            " [[8468  289]\n",
            " [1065 7693]]\n",
            "--------------------------------------------------\n",
            "Classification Report....\n",
            "               precision    recall  f1-score   support\n",
            "\n",
            "           0       0.89      0.97      0.93      8757\n",
            "           1       0.96      0.88      0.92      8758\n",
            "\n",
            "    accuracy                           0.92     17515\n",
            "   macro avg       0.93      0.92      0.92     17515\n",
            "weighted avg       0.93      0.92      0.92     17515\n",
            "\n",
            "--------------------------------------------------\n",
            "Plotting Confusion Matrix...\n",
            "\n"
          ]
        },
        {
          "data": {
            "image/png": "[encoded data removed]",
            "text/plain": [
              "<Figure size 864x648 with 2 Axes>"
            ]
          },
          "metadata": {
            "needs_background": "light"
          },
          "output_type": "display_data"
        },
        {
          "name": "stdout",
          "output_type": "stream",
          "text": [
            "\t\t\t\t\t\t\t-----------------------------------------------------------\n",
            "\t\t\t\t\t\t\t Time for detection (Random Forest) : 174.231 seconds...\n",
            "\t\t\t\t\t\t\t-----------------------------------------------------------\n",
            "\n",
            "Epoch 1/10\n",
            "2190/2190 [==============================] - 7s 3ms/step - loss: 0.3222 - accuracy: 0.8633 - val_loss: 0.2420 - val_accuracy: 0.9079\n",
            "Epoch 2/10\n",
            "2190/2190 [==============================] - 6s 3ms/step - loss: 0.2420 - accuracy: 0.9084 - val_loss: 0.2326 - val_accuracy: 0.9136\n",
            "Epoch 3/10\n",
            "2190/2190 [==============================] - 6s 3ms/step - loss: 0.2300 - accuracy: 0.9134 - val_loss: 0.2279 - val_accuracy: 0.9164\n",
            "Epoch 4/10\n",
            "2190/2190 [==============================] - 7s 3ms/step - loss: 0.2231 - accuracy: 0.9168 - val_loss: 0.2292 - val_accuracy: 0.9132\n",
            "Epoch 5/10\n",
            "2190/2190 [==============================] - 7s 3ms/step - loss: 0.2167 - accuracy: 0.9179 - val_loss: 0.2269 - val_accuracy: 0.9161\n",
            "Epoch 6/10\n",
            "2190/2190 [==============================] - 6s 3ms/step - loss: 0.2121 - accuracy: 0.9202 - val_loss: 0.2268 - val_accuracy: 0.9144\n",
            "Epoch 7/10\n",
            "2190/2190 [==============================] - 6s 3ms/step - loss: 0.2076 - accuracy: 0.9213 - val_loss: 0.2273 - val_accuracy: 0.9175\n",
            "Epoch 8/10\n",
            "2190/2190 [==============================] - 6s 3ms/step - loss: 0.2044 - accuracy: 0.9232 - val_loss: 0.2276 - val_accuracy: 0.9156\n",
            "Epoch 9/10\n",
            "2190/2190 [==============================] - 6s 3ms/step - loss: 0.2002 - accuracy: 0.9247 - val_loss: 0.2333 - val_accuracy: 0.9176\n",
            "Epoch 10/10\n",
            "2190/2190 [==============================] - 6s 3ms/step - loss: 0.1977 - accuracy: 0.9262 - val_loss: 0.2305 - val_accuracy: 0.9132\n",
            "548/548 [==============================] - 1s 1ms/step\n",
            "Plotting Losses of ANN...\n",
            "\n"
          ]
        },
        {
          "data": {
            "image/png": "[encoded data removed]",
            "text/plain": [
              "<Figure size 864x360 with 1 Axes>"
            ]
          },
          "metadata": {
            "needs_background": "light"
          },
          "output_type": "display_data"
        },
        {
          "name": "stdout",
          "output_type": "stream",
          "text": [
            "+ ==================================================================================================== +\n",
            "\u001b[1m\t\t\t3-For ANN The Performance result is: \u001b[0m\n",
            "+ ==================================================================================================== +\n",
            "Vectorization Technique :  TfidfVectorizer\n",
            "--------------------------------------------------\n",
            "Sampling Technique      :  RandomUnderSampler\n",
            "--------------------------------------------------\n",
            "Accuracy :  0.9131601484441907\n",
            "--------------------------------------------------\n",
            "F1 :  [0.91617525 0.90992005]\n",
            "--------------------------------------------------\n",
            "Reacll :  [0.94918351 0.8771409 ]\n",
            "--------------------------------------------------\n",
            "Precision :  [0.8853856  0.94524425]\n",
            "--------------------------------------------------\n",
            "Confusion Matrix....\n",
            " [[8312  445]\n",
            " [1076 7682]]\n",
            "--------------------------------------------------\n",
            "Classification Report....\n",
            "               precision    recall  f1-score   support\n",
            "\n",
            "           0       0.89      0.95      0.92      8757\n",
            "           1       0.95      0.88      0.91      8758\n",
            "\n",
            "    accuracy                           0.91     17515\n",
            "   macro avg       0.92      0.91      0.91     17515\n",
            "weighted avg       0.92      0.91      0.91     17515\n",
            "\n",
            "--------------------------------------------------\n",
            "Plotting Confusion Matrix...\n",
            "\n"
          ]
        },
        {
          "data": {
            "image/png": "[encoded data removed]",
            "text/plain": [
              "<Figure size 864x648 with 2 Axes>"
            ]
          },
          "metadata": {
            "needs_background": "light"
          },
          "output_type": "display_data"
        },
        {
          "name": "stdout",
          "output_type": "stream",
          "text": [
            "\t\t\t\t\t\t\t-----------------------------------------------------------\n",
            "\t\t\t\t\t\t\t Time for detection (ANN) : 84.768 seconds...\n",
            "\t\t\t\t\t\t\t-----------------------------------------------------------\n",
            "\n",
            "Epoch 1/10\n",
            "2190/2190 [==============================] - 147s 64ms/step - loss: 0.5599 - accuracy: 0.7015 - val_loss: 1.0421 - val_accuracy: 0.5162\n",
            "Epoch 2/10\n",
            "2190/2190 [==============================] - 140s 64ms/step - loss: 0.5323 - accuracy: 0.7236 - val_loss: 1.2018 - val_accuracy: 0.5950\n",
            "Epoch 3/10\n",
            "2190/2190 [==============================] - 144s 66ms/step - loss: 0.5184 - accuracy: 0.7327 - val_loss: 0.5760 - val_accuracy: 0.6772\n",
            "Epoch 4/10\n",
            "2190/2190 [==============================] - 142s 65ms/step - loss: 0.5039 - accuracy: 0.7450 - val_loss: 0.4861 - val_accuracy: 0.7605\n",
            "Epoch 5/10\n",
            "2190/2190 [==============================] - 141s 64ms/step - loss: 0.4947 - accuracy: 0.7526 - val_loss: 0.6405 - val_accuracy: 0.6830\n",
            "Epoch 6/10\n",
            "2190/2190 [==============================] - 139s 63ms/step - loss: 0.4867 - accuracy: 0.7579 - val_loss: 0.6635 - val_accuracy: 0.6834\n",
            "Epoch 7/10\n",
            "2190/2190 [==============================] - 139s 63ms/step - loss: 0.4832 - accuracy: 0.7610 - val_loss: 0.4700 - val_accuracy: 0.7720\n",
            "Epoch 8/10\n",
            "2190/2190 [==============================] - 144s 66ms/step - loss: 0.4788 - accuracy: 0.7638 - val_loss: 1.0308 - val_accuracy: 0.5092\n",
            "Epoch 9/10\n",
            "2190/2190 [==============================] - 139s 64ms/step - loss: 0.4771 - accuracy: 0.7647 - val_loss: 1.2964 - val_accuracy: 0.5833\n",
            "Epoch 10/10\n",
            "2190/2190 [==============================] - 141s 65ms/step - loss: 0.4734 - accuracy: 0.7684 - val_loss: 0.4702 - val_accuracy: 0.7693\n",
            "Plotting Losses of Bi-LSTM...\n",
            "\n"
          ]
        },
        {
          "data": {
            "image/png": "[encoded data removed]",
            "text/plain": [
              "<Figure size 864x360 with 1 Axes>"
            ]
          },
          "metadata": {
            "needs_background": "light"
          },
          "output_type": "display_data"
        },
        {
          "name": "stdout",
          "output_type": "stream",
          "text": [
            "548/548 [==============================] - 9s 15ms/step\n",
            "+ ==================================================================================================== +\n",
            "\u001b[1m\t\t\t4-For Bi-LSTM The Performance result is: \u001b[0m\n",
            "+ ==================================================================================================== +\n",
            "Vectorization Technique :  TfidfVectorizer\n",
            "--------------------------------------------------\n",
            "Sampling Technique      :  RandomUnderSampler\n",
            "--------------------------------------------------\n",
            "Accuracy :  0.769340565229803\n",
            "--------------------------------------------------\n",
            "F1 :  [0.76072021 0.7773614 ]\n",
            "--------------------------------------------------\n",
            "Reacll :  [0.73335617 0.80532085]\n",
            "--------------------------------------------------\n",
            "Precision :  [0.79020549 0.75127823]\n",
            "--------------------------------------------------\n",
            "Confusion Matrix....\n",
            " [[6422 2335]\n",
            " [1705 7053]]\n",
            "--------------------------------------------------\n",
            "Classification Report....\n",
            "               precision    recall  f1-score   support\n",
            "\n",
            "           0       0.79      0.73      0.76      8757\n",
            "           1       0.75      0.81      0.78      8758\n",
            "\n",
            "    accuracy                           0.77     17515\n",
            "   macro avg       0.77      0.77      0.77     17515\n",
            "weighted avg       0.77      0.77      0.77     17515\n",
            "\n",
            "--------------------------------------------------\n",
            "Plotting Confusion Matrix...\n",
            "\n"
          ]
        },
        {
          "data": {
            "image/png": "[encoded data removed]",
            "text/plain": [
              "<Figure size 864x648 with 2 Axes>"
            ]
          },
          "metadata": {
            "needs_background": "light"
          },
          "output_type": "display_data"
        },
        {
          "name": "stdout",
          "output_type": "stream",
          "text": [
            "\t\t\t\t\t\t\t-----------------------------------------------------------\n",
            "\t\t\t\t\t\t\t Time for detection (Bi-LSTM) : 1427.671 seconds...\n",
            "\t\t\t\t\t\t\t-----------------------------------------------------------\n",
            "\n"
          ]
        }
      ],
      "source": [
        "from sklearn.model_selection import train_test_split \n",
        "\n",
        "acc = []\n",
        "pre = []\n",
        "rec = []\n",
        "f1 = []\n",
        "con = []\n",
        "vectorization_tec=[]\n",
        "sampling_tec = []\n",
        "models_name = []\n",
        "for vec in vectorizers:\n",
        "    X = vec.fit_transform(input_feature.clean_data).toarray()\n",
        "    Y = output_feature\n",
        "    \n",
        "    for sampler in samplers:\n",
        "      if sampler:\n",
        "        X, Y = sampler.fit_resample(X,Y)\n",
        "      X_train, X_test, y_train, y_test = train_test_split(X, Y, test_size=0.2,stratify=Y)\n",
        "      i = 0\n",
        "      for name, model in models:\n",
        "        i = i+1\n",
        "        start_time = time.time()\n",
        "        if name == \"ANN\":\n",
        "          models_name.append(name)\n",
        "          vectorization_tec.append(type(vec).__name__)\n",
        "          if sampler:\n",
        "            sampling_tec.append(type(sampler).__name__)\n",
        "          else:\n",
        "            sampling_tec.append(\"Original\")\n",
        "            \n",
        "\n",
        "          y_tr = pd.get_dummies(y_train)\n",
        "          y_ts = pd.get_dummies(y_test)\n",
        "                \n",
        "          mapper = dict([[i, j] for i, j in zip(y_tr.columns, list(range(len(y_tr.columns))))])\n",
        "                \n",
        "          ann = Sequential()\n",
        "          ann.add(Dense(8, activation=\"relu\", input_dim=1000))\n",
        "          ann.add(Dense(16))\n",
        "          ann.add(Dropout(0.2))\n",
        "          ann.add(Dense(16))\n",
        "          ann.add(Dense(y_tr.shape[1], activation=\"sigmoid\"))\n",
        "          ann.compile(loss=\"binary_crossentropy\", metrics=[\"accuracy\"], optimizer=\"adam\")\n",
        "          history = ann.fit(X_train, y_tr, epochs=10, validation_data=(X_test, y_ts))\n",
        "          y_pred = [np.argmax(i) for i in ann.predict(X_test)]\n",
        "          y_ts = y_ts.idxmax(axis=1).map(mapper)\n",
        "\n",
        "          # history = ann.history.history\n",
        "          print(f'Plotting Losses of {name}...\\n')\n",
        "          plt.figure(figsize=(12,5))\n",
        "\n",
        "          sns.lineplot(x=list(range(len(history.history[\"loss\"]))), y=history.history[\"loss\"], label=\"Loss\")\n",
        "          sns.lineplot(x=list(range(len(history.history[\"loss\"]))), y=history.history[\"val_loss\"], label=\"Validation Loss\")\n",
        "          plt.xlabel(\"Epochs\")\n",
        "          plt.ylabel(\"Losses\")\n",
        "          plt.show()\n",
        "                # Accuracy\n",
        "          accuracy = accuracy_score(y_ts, y_pred)\n",
        "          acc.append(accuracy)\n",
        "                # Precision\n",
        "          precision = precision_score(y_ts, y_pred, average=None)\n",
        "          pre.append(precision)\n",
        "              \n",
        "                # Recall\n",
        "          recall = recall_score(y_ts, y_pred, average=None)\n",
        "          rec.append(recall)\n",
        "          # F1 Score\n",
        "          f1_sco = f1_score(y_ts, y_pred, average=None)\n",
        "          f1.append(f1_sco)\n",
        "                # Confusion Matrix\n",
        "          confusion_mat = confusion_matrix(y_ts, y_pred)\n",
        "          con.append(confusion_mat)\n",
        "                # Report\n",
        "          report = classification_report(y_ts, y_pred)\n",
        "\n",
        "\n",
        "          print(\"+\",\"=\"*100,\"+\")\n",
        "          print('\\033[1m' + f\"\\t\\t\\t{i}-For {name} The Performance result is: \" + '\\033[0m')\n",
        "          print(\"+\",\"=\"*100,\"+\")\n",
        "          print('Vectorization Technique : ', type(vec).__name__)   \n",
        "          print(\"-\"*50)\n",
        "          print('Sampling Technique      : ', type(sampler).__name__)   \n",
        "          print(\"-\"*50)\n",
        "          print('Accuracy : ', accuracy)   \n",
        "          print(\"-\"*50)\n",
        "          print('F1 : ', f1_sco)\n",
        "          print(\"-\"*50)\n",
        "          print('Reacll : ', recall)\n",
        "          print(\"-\"*50)\n",
        "          print('Precision : ', precision)\n",
        "          print(\"-\"*50)\n",
        "          print('Confusion Matrix....\\n', confusion_mat)\n",
        "          print(\"-\"*50)\n",
        "          print('Classification Report....\\n', report)\n",
        "          print(\"-\"*50)\n",
        "          print('Plotting Confusion Matrix...\\n')\n",
        "          plt.figure(figsize=(12, 9))\n",
        "          sns.heatmap(confusion_mat, annot=True)\n",
        "          plt.show()\n",
        "\n",
        "\n",
        "\n",
        "          print(\"\\t\\t\\t\\t\\t\\t\\t-----------------------------------------------------------\")\n",
        "          print(f\"\\t\\t\\t\\t\\t\\t\\t Time for detection ({name}) : {round((time.time() - start_time), 3)} seconds...\")\n",
        "          print(\"\\t\\t\\t\\t\\t\\t\\t-----------------------------------------------------------\")\n",
        "          print()\n",
        "        \n",
        "                \n",
        "        elif name == \"Bi-LSTM\":\n",
        "          \n",
        "          # Fitting model to the Training set\n",
        "          \n",
        "          models_name.append(name)\n",
        "          vectorization_tec.append(type(vec).__name__)\n",
        "          if sampler:\n",
        "            sampling_tec.append(type(sampler).__name__)\n",
        "          else:\n",
        "            sampling_tec.append(\"Orginal\")\n",
        "\n",
        "          y_tr = pd.get_dummies(y_train)\n",
        "          y_ts = pd.get_dummies(y_test)\n",
        "                \n",
        "          mapper = dict([[i, j] for i, j in zip(y_tr.columns, list(range(len(y_tr.columns))))])\n",
        "\n",
        "\n",
        "          \n",
        "          model_bilstm = Sequential()\n",
        "          model_bilstm.add(Bidirectional(LSTM(8, activation=\"relu\", return_sequences=True, input_shape=(4, 2))))\n",
        "          model_bilstm.add(Bidirectional(LSTM(16, activation=\"relu\", return_sequences=False)))\n",
        "          model_bilstm.add(BatchNormalization())\n",
        "          model_bilstm.add(Dense(16))\n",
        "          model_bilstm.add(Dropout(0.2))\n",
        "          model_bilstm.add(Dense(2, activation=\"sigmoid\"))\n",
        "\n",
        "          \n",
        "          model_bilstm.compile(loss=\"binary_crossentropy\", metrics=[\"accuracy\"], optimizer=\"adam\")\n",
        "          model_bilstm.fit(X_train.reshape((-1,50,20)), y_tr, epochs=10, validation_data=(X_test.reshape((-1,50,20)), y_ts))\n",
        "\n",
        "          history = model_bilstm.history.history\n",
        "          print(f'Plotting Losses of {name}...\\n')\n",
        "          plt.figure(figsize=(12,5))\n",
        "          sns.lineplot(x=list(range(len(history[\"loss\"]))), y=history[\"loss\"], label=\"Loss\")\n",
        "          sns.lineplot(x=list(range(len(history[\"loss\"]))), y=history[\"val_loss\"], label=\"Validation_Loss\")\n",
        "          plt.xlabel(\"Epochs\")\n",
        "          plt.ylabel(\"Losses\")\n",
        "          plt.show()\n",
        "\n",
        "          y_pred = [np.argmax(i) for i in model_bilstm.predict(X_test.reshape((-1,50,20)))]\n",
        "          y_ts = y_ts.idxmax(axis=1).map(mapper)\n",
        "                \n",
        "                # Accuracy\n",
        "          accuracy = accuracy_score(y_ts, y_pred)\n",
        "          acc.append(accuracy)\n",
        "                # Precision\n",
        "          precision = precision_score(y_ts, y_pred, average=None)\n",
        "          pre.append(precision)\n",
        "              \n",
        "                # Recall\n",
        "          recall = recall_score(y_ts, y_pred, average=None)\n",
        "          rec.append(recall)\n",
        "          # F1 Score\n",
        "          f1_sco = f1_score(y_ts, y_pred, average=None)\n",
        "          f1.append(f1_sco)\n",
        "                # Confusion Matrix\n",
        "          confusion_mat = confusion_matrix(y_ts, y_pred)\n",
        "          con.append(confusion_mat)\n",
        "                # Report\n",
        "          report = classification_report(y_ts, y_pred)\n",
        "\n",
        "\n",
        "          print(\"+\",\"=\"*100,\"+\")\n",
        "          print('\\033[1m' + f\"\\t\\t\\t{i}-For {name} The Performance result is: \" + '\\033[0m')\n",
        "          print(\"+\",\"=\"*100,\"+\")\n",
        "          print('Vectorization Technique : ', type(vec).__name__)   \n",
        "          print(\"-\"*50)\n",
        "          print('Sampling Technique      : ', type(sampler).__name__)   \n",
        "          print(\"-\"*50)\n",
        "          print('Accuracy : ', accuracy)   \n",
        "          print(\"-\"*50)\n",
        "          print('F1 : ', f1_sco)\n",
        "          print(\"-\"*50)\n",
        "          print('Reacll : ', recall)\n",
        "          print(\"-\"*50)\n",
        "          print('Precision : ', precision)\n",
        "          print(\"-\"*50)\n",
        "          print('Confusion Matrix....\\n', confusion_mat)\n",
        "          print(\"-\"*50)\n",
        "          print('Classification Report....\\n', report)\n",
        "          print(\"-\"*50)\n",
        "          print('Plotting Confusion Matrix...\\n')\n",
        "          plt.figure(figsize=(12, 9))\n",
        "          sns.heatmap(confusion_mat, annot=True)\n",
        "          plt.show()\n",
        "\n",
        "\n",
        "\n",
        "          print(\"\\t\\t\\t\\t\\t\\t\\t-----------------------------------------------------------\")\n",
        "          print(f\"\\t\\t\\t\\t\\t\\t\\t Time for detection ({name}) : {round((time.time() - start_time), 3)} seconds...\")\n",
        "          print(\"\\t\\t\\t\\t\\t\\t\\t-----------------------------------------------------------\")\n",
        "          print()      \n",
        "        else:\n",
        "          # Fitting model to the Training set\n",
        "          clf = model\n",
        "          clf.fit(X_train, y_train)\n",
        "\n",
        "          models_name.append(name)\n",
        "          vectorization_tec.append(type(vec).__name__)\n",
        "          if sampler:\n",
        "            sampling_tec.append(type(sampler).__name__)\n",
        "          else:\n",
        "            sampling_tec.append(\"original\")\n",
        "          # sampling_tec.append(type(sampler).__name__)\n",
        "          # predict values\n",
        "          y_pred = clf.predict(X_test)\n",
        "\n",
        "                # Accuracy\n",
        "          accuracy = accuracy_score(y_test, y_pred)\n",
        "          acc.append(accuracy)\n",
        "                # Precision\n",
        "          precision = precision_score(y_test, y_pred, average=None)\n",
        "          pre.append(precision)\n",
        "                # Recall\n",
        "          recall = recall_score(y_test, y_pred, average=None)\n",
        "          rec.append(recall)\n",
        "                # F1 Score\n",
        "          f1_sco = f1_score(y_test, y_pred, average=None)\n",
        "          f1.append(f1_sco)\n",
        "                # Confusion Matrix\n",
        "          confusion_mat = confusion_matrix(y_test, y_pred)\n",
        "          con.append(confusion_mat)\n",
        "                # Report\n",
        "          report = classification_report(y_test, y_pred)\n",
        "\n",
        "\n",
        "          print(\"+\",\"=\"*100,\"+\")\n",
        "          print('\\033[1m' + f\"\\t\\t\\t{i}-For {name} The Performance result is: \" + '\\033[0m')\n",
        "          print(\"+\",\"=\"*100,\"+\")\n",
        "          print('Vectorization Technique : ', type(vec).__name__)   \n",
        "          print(\"-\"*50)\n",
        "          print('Sampling Technique      : ', type(sampler).__name__)   \n",
        "          print(\"-\"*50)\n",
        "          print('Accuracy : ', accuracy)   \n",
        "          print(\"-\"*50)\n",
        "          print('F1 : ', f1_sco)\n",
        "          print(\"-\"*50)\n",
        "          print('Reacll : ', recall)\n",
        "          print(\"-\"*50)\n",
        "          print('Precision : ', precision)\n",
        "          print(\"-\"*50)\n",
        "          print('Confusion Matrix....\\n', confusion_mat)\n",
        "          print(\"-\"*50)\n",
        "          print('Classification Report....\\n', report)\n",
        "          print(\"-\"*50)\n",
        "          print('Plotting Confusion Matrix...\\n')\n",
        "          plt.figure(figsize=(12, 9))\n",
        "          sns.heatmap(confusion_mat, annot=True)\n",
        "          plt.show()\n",
        "\n",
        "\n",
        "\n",
        "          print(\"\\t\\t\\t\\t\\t\\t\\t-----------------------------------------------------------\")\n",
        "          print(f\"\\t\\t\\t\\t\\t\\t\\t Time for detection ({name}) : {round((time.time() - start_time), 3)} seconds...\")\n",
        "          print(\"\\t\\t\\t\\t\\t\\t\\t-----------------------------------------------------------\")\n",
        "          print()"
      ]
    }
  ],
  "metadata": {
    "accelerator": "TPU",
    "colab": {
      "provenance": []
    },
    "gpuClass": "standard",
    "kernelspec": {
      "display_name": "Python 3",
      "language": "python",
      "name": "python3"
    },
    "language_info": {
      "codemirror_mode": {
        "name": "ipython",
        "version": 3
      },
      "file_extension": ".py",
      "mimetype": "text/x-python",
      "name": "python",
      "nbconvert_exporter": "python",
      "pygments_lexer": "ipython3",
      "version": "3.8.5"
    }
  },
  "nbformat": 4,
  "nbformat_minor": 0
}
